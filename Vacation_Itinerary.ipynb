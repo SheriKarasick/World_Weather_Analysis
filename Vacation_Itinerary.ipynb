{
 "cells": [
  {
   "cell_type": "code",
   "execution_count": 1,
   "metadata": {},
   "outputs": [],
   "source": [
    "# Import the dependencies.\n",
    "import pandas as pd\n",
    "import matplotlib.pyplot as plt\n",
    "import numpy as np\n",
    "import gmaps\n",
    "import requests\n",
    "# Import the API key.\n",
    "from config import g_key\n",
    "from config import g_key2\n",
    "import traceback"
   ]
  },
  {
   "cell_type": "code",
   "execution_count": 2,
   "metadata": {},
   "outputs": [],
   "source": [
    "import gmaps.datasets\n",
    "gmaps.configure(api_key=g_key2)\n"
   ]
  },
  {
   "cell_type": "code",
   "execution_count": 3,
   "metadata": {},
   "outputs": [],
   "source": [
    "travel_cities_df = pd.read_csv(\"WeatherPy_vacation.csv\")"
   ]
  },
  {
   "cell_type": "code",
   "execution_count": 4,
   "metadata": {},
   "outputs": [
    {
     "data": {
      "text/html": [
       "<div>\n",
       "<style scoped>\n",
       "    .dataframe tbody tr th:only-of-type {\n",
       "        vertical-align: middle;\n",
       "    }\n",
       "\n",
       "    .dataframe tbody tr th {\n",
       "        vertical-align: top;\n",
       "    }\n",
       "\n",
       "    .dataframe thead th {\n",
       "        text-align: right;\n",
       "    }\n",
       "</style>\n",
       "<table border=\"1\" class=\"dataframe\">\n",
       "  <thead>\n",
       "    <tr style=\"text-align: right;\">\n",
       "      <th></th>\n",
       "      <th>City_ID</th>\n",
       "      <th>City</th>\n",
       "      <th>Country</th>\n",
       "      <th>Max Temp</th>\n",
       "      <th>Weather</th>\n",
       "      <th>Lat</th>\n",
       "      <th>Lng</th>\n",
       "      <th>Hotel Name</th>\n",
       "    </tr>\n",
       "  </thead>\n",
       "  <tbody>\n",
       "    <tr>\n",
       "      <th>0</th>\n",
       "      <td>1</td>\n",
       "      <td>Rikitea</td>\n",
       "      <td>PF</td>\n",
       "      <td>76.98</td>\n",
       "      <td>overcast clouds</td>\n",
       "      <td>-23.12</td>\n",
       "      <td>-134.97</td>\n",
       "      <td>Pension Maro'i</td>\n",
       "    </tr>\n",
       "    <tr>\n",
       "      <th>1</th>\n",
       "      <td>5</td>\n",
       "      <td>Saint-Philippe</td>\n",
       "      <td>RE</td>\n",
       "      <td>75.20</td>\n",
       "      <td>broken clouds</td>\n",
       "      <td>-21.36</td>\n",
       "      <td>55.77</td>\n",
       "      <td>Chambres d'hôte \"La Trinité\"</td>\n",
       "    </tr>\n",
       "    <tr>\n",
       "      <th>2</th>\n",
       "      <td>8</td>\n",
       "      <td>Manicore</td>\n",
       "      <td>BR</td>\n",
       "      <td>80.60</td>\n",
       "      <td>light rain</td>\n",
       "      <td>-5.81</td>\n",
       "      <td>-61.30</td>\n",
       "      <td>Pousada da wanda</td>\n",
       "    </tr>\n",
       "    <tr>\n",
       "      <th>3</th>\n",
       "      <td>10</td>\n",
       "      <td>Atuona</td>\n",
       "      <td>PF</td>\n",
       "      <td>81.66</td>\n",
       "      <td>clear sky</td>\n",
       "      <td>-9.80</td>\n",
       "      <td>-139.03</td>\n",
       "      <td>Villa Enata</td>\n",
       "    </tr>\n",
       "    <tr>\n",
       "      <th>4</th>\n",
       "      <td>14</td>\n",
       "      <td>Alta Floresta</td>\n",
       "      <td>BR</td>\n",
       "      <td>74.16</td>\n",
       "      <td>light rain</td>\n",
       "      <td>-9.88</td>\n",
       "      <td>-56.09</td>\n",
       "      <td>Floresta Amazonica Hotel</td>\n",
       "    </tr>\n",
       "  </tbody>\n",
       "</table>\n",
       "</div>"
      ],
      "text/plain": [
       "   City_ID            City Country  Max Temp          Weather    Lat     Lng  \\\n",
       "0        1         Rikitea      PF     76.98  overcast clouds -23.12 -134.97   \n",
       "1        5  Saint-Philippe      RE     75.20    broken clouds -21.36   55.77   \n",
       "2        8        Manicore      BR     80.60       light rain  -5.81  -61.30   \n",
       "3       10          Atuona      PF     81.66        clear sky  -9.80 -139.03   \n",
       "4       14   Alta Floresta      BR     74.16       light rain  -9.88  -56.09   \n",
       "\n",
       "                     Hotel Name  \n",
       "0                Pension Maro'i  \n",
       "1  Chambres d'hôte \"La Trinité\"  \n",
       "2              Pousada da wanda  \n",
       "3                   Villa Enata  \n",
       "4      Floresta Amazonica Hotel  "
      ]
     },
     "execution_count": 4,
     "metadata": {},
     "output_type": "execute_result"
    }
   ],
   "source": [
    "travel_cities_df.head()"
   ]
  },
  {
   "cell_type": "code",
   "execution_count": 5,
   "metadata": {},
   "outputs": [
    {
     "data": {
      "text/html": [
       "<div>\n",
       "<style scoped>\n",
       "    .dataframe tbody tr th:only-of-type {\n",
       "        vertical-align: middle;\n",
       "    }\n",
       "\n",
       "    .dataframe tbody tr th {\n",
       "        vertical-align: top;\n",
       "    }\n",
       "\n",
       "    .dataframe thead th {\n",
       "        text-align: right;\n",
       "    }\n",
       "</style>\n",
       "<table border=\"1\" class=\"dataframe\">\n",
       "  <thead>\n",
       "    <tr style=\"text-align: right;\">\n",
       "      <th></th>\n",
       "      <th>City_ID</th>\n",
       "      <th>City</th>\n",
       "      <th>Country</th>\n",
       "      <th>Max Temp</th>\n",
       "      <th>Weather</th>\n",
       "      <th>Lat</th>\n",
       "      <th>Lng</th>\n",
       "      <th>Hotel Name</th>\n",
       "    </tr>\n",
       "  </thead>\n",
       "  <tbody>\n",
       "    <tr>\n",
       "      <th>40</th>\n",
       "      <td>117</td>\n",
       "      <td>Port Macquarie</td>\n",
       "      <td>AU</td>\n",
       "      <td>75.0</td>\n",
       "      <td>clear sky</td>\n",
       "      <td>-31.43</td>\n",
       "      <td>152.92</td>\n",
       "      <td>Rydges Port Macquarie</td>\n",
       "    </tr>\n",
       "  </tbody>\n",
       "</table>\n",
       "</div>"
      ],
      "text/plain": [
       "    City_ID            City Country  Max Temp    Weather    Lat     Lng  \\\n",
       "40      117  Port Macquarie      AU      75.0  clear sky -31.43  152.92   \n",
       "\n",
       "               Hotel Name  \n",
       "40  Rydges Port Macquarie  "
      ]
     },
     "execution_count": 5,
     "metadata": {},
     "output_type": "execute_result"
    }
   ],
   "source": [
    "first_stop = travel_cities_df.loc[travel_cities_df[\"City\"] == \"Port Macquarie\"].copy()\n",
    "first_stop"
   ]
  },
  {
   "cell_type": "code",
   "execution_count": 6,
   "metadata": {},
   "outputs": [
    {
     "data": {
      "text/plain": [
       "(-31.43, 152.92)"
      ]
     },
     "execution_count": 6,
     "metadata": {},
     "output_type": "execute_result"
    }
   ],
   "source": [
    "Port_Macquarie = first_stop[\"Lat\"][40], first_stop[\"Lng\"][40]\n",
    "Port_Macquarie"
   ]
  },
  {
   "cell_type": "code",
   "execution_count": 7,
   "metadata": {},
   "outputs": [
    {
     "data": {
      "text/html": [
       "<div>\n",
       "<style scoped>\n",
       "    .dataframe tbody tr th:only-of-type {\n",
       "        vertical-align: middle;\n",
       "    }\n",
       "\n",
       "    .dataframe tbody tr th {\n",
       "        vertical-align: top;\n",
       "    }\n",
       "\n",
       "    .dataframe thead th {\n",
       "        text-align: right;\n",
       "    }\n",
       "</style>\n",
       "<table border=\"1\" class=\"dataframe\">\n",
       "  <thead>\n",
       "    <tr style=\"text-align: right;\">\n",
       "      <th></th>\n",
       "      <th>City_ID</th>\n",
       "      <th>City</th>\n",
       "      <th>Country</th>\n",
       "      <th>Max Temp</th>\n",
       "      <th>Weather</th>\n",
       "      <th>Lat</th>\n",
       "      <th>Lng</th>\n",
       "      <th>Hotel Name</th>\n",
       "    </tr>\n",
       "  </thead>\n",
       "  <tbody>\n",
       "    <tr>\n",
       "      <th>35</th>\n",
       "      <td>100</td>\n",
       "      <td>Cairns</td>\n",
       "      <td>AU</td>\n",
       "      <td>82.4</td>\n",
       "      <td>few clouds</td>\n",
       "      <td>-16.92</td>\n",
       "      <td>145.77</td>\n",
       "      <td>Mantra Trilogy Cairns</td>\n",
       "    </tr>\n",
       "  </tbody>\n",
       "</table>\n",
       "</div>"
      ],
      "text/plain": [
       "    City_ID    City Country  Max Temp     Weather    Lat     Lng  \\\n",
       "35      100  Cairns      AU      82.4  few clouds -16.92  145.77   \n",
       "\n",
       "               Hotel Name  \n",
       "35  Mantra Trilogy Cairns  "
      ]
     },
     "execution_count": 7,
     "metadata": {},
     "output_type": "execute_result"
    }
   ],
   "source": [
    "second_stop = travel_cities_df.loc[travel_cities_df[\"City\"] == \"Cairns\"].copy()\n",
    "second_stop"
   ]
  },
  {
   "cell_type": "code",
   "execution_count": 8,
   "metadata": {},
   "outputs": [
    {
     "data": {
      "text/plain": [
       "(-16.92, 145.77)"
      ]
     },
     "execution_count": 8,
     "metadata": {},
     "output_type": "execute_result"
    }
   ],
   "source": [
    "Cairns = second_stop[\"Lat\"][35], second_stop[\"Lng\"][35]\n",
    "Cairns"
   ]
  },
  {
   "cell_type": "code",
   "execution_count": 9,
   "metadata": {},
   "outputs": [
    {
     "data": {
      "text/html": [
       "<div>\n",
       "<style scoped>\n",
       "    .dataframe tbody tr th:only-of-type {\n",
       "        vertical-align: middle;\n",
       "    }\n",
       "\n",
       "    .dataframe tbody tr th {\n",
       "        vertical-align: top;\n",
       "    }\n",
       "\n",
       "    .dataframe thead th {\n",
       "        text-align: right;\n",
       "    }\n",
       "</style>\n",
       "<table border=\"1\" class=\"dataframe\">\n",
       "  <thead>\n",
       "    <tr style=\"text-align: right;\">\n",
       "      <th></th>\n",
       "      <th>City_ID</th>\n",
       "      <th>City</th>\n",
       "      <th>Country</th>\n",
       "      <th>Max Temp</th>\n",
       "      <th>Weather</th>\n",
       "      <th>Lat</th>\n",
       "      <th>Lng</th>\n",
       "      <th>Hotel Name</th>\n",
       "    </tr>\n",
       "  </thead>\n",
       "  <tbody>\n",
       "    <tr>\n",
       "      <th>43</th>\n",
       "      <td>121</td>\n",
       "      <td>Maningrida</td>\n",
       "      <td>AU</td>\n",
       "      <td>82.47</td>\n",
       "      <td>scattered clouds</td>\n",
       "      <td>-12.07</td>\n",
       "      <td>134.27</td>\n",
       "      <td>Dhukurrdji Lodge</td>\n",
       "    </tr>\n",
       "  </tbody>\n",
       "</table>\n",
       "</div>"
      ],
      "text/plain": [
       "    City_ID        City Country  Max Temp           Weather    Lat     Lng  \\\n",
       "43      121  Maningrida      AU     82.47  scattered clouds -12.07  134.27   \n",
       "\n",
       "          Hotel Name  \n",
       "43  Dhukurrdji Lodge  "
      ]
     },
     "execution_count": 9,
     "metadata": {},
     "output_type": "execute_result"
    }
   ],
   "source": [
    "third_stop = travel_cities_df.loc[travel_cities_df[\"City\"] == \"Maningrida\"].copy()\n",
    "third_stop"
   ]
  },
  {
   "cell_type": "code",
   "execution_count": 10,
   "metadata": {},
   "outputs": [
    {
     "data": {
      "text/plain": [
       "(-12.07, 134.27)"
      ]
     },
     "execution_count": 10,
     "metadata": {},
     "output_type": "execute_result"
    }
   ],
   "source": [
    "Maningrida = third_stop[\"Lat\"][43], third_stop[\"Lng\"][43]\n",
    "Maningrida"
   ]
  },
  {
   "cell_type": "code",
   "execution_count": 11,
   "metadata": {},
   "outputs": [
    {
     "data": {
      "text/html": [
       "<div>\n",
       "<style scoped>\n",
       "    .dataframe tbody tr th:only-of-type {\n",
       "        vertical-align: middle;\n",
       "    }\n",
       "\n",
       "    .dataframe tbody tr th {\n",
       "        vertical-align: top;\n",
       "    }\n",
       "\n",
       "    .dataframe thead th {\n",
       "        text-align: right;\n",
       "    }\n",
       "</style>\n",
       "<table border=\"1\" class=\"dataframe\">\n",
       "  <thead>\n",
       "    <tr style=\"text-align: right;\">\n",
       "      <th></th>\n",
       "      <th>City_ID</th>\n",
       "      <th>City</th>\n",
       "      <th>Country</th>\n",
       "      <th>Max Temp</th>\n",
       "      <th>Weather</th>\n",
       "      <th>Lat</th>\n",
       "      <th>Lng</th>\n",
       "      <th>Hotel Name</th>\n",
       "    </tr>\n",
       "  </thead>\n",
       "  <tbody>\n",
       "    <tr>\n",
       "      <th>37</th>\n",
       "      <td>109</td>\n",
       "      <td>Karratha</td>\n",
       "      <td>AU</td>\n",
       "      <td>85.86</td>\n",
       "      <td>few clouds</td>\n",
       "      <td>-20.74</td>\n",
       "      <td>116.85</td>\n",
       "      <td>ibis Styles Karratha</td>\n",
       "    </tr>\n",
       "  </tbody>\n",
       "</table>\n",
       "</div>"
      ],
      "text/plain": [
       "    City_ID      City Country  Max Temp     Weather    Lat     Lng  \\\n",
       "37      109  Karratha      AU     85.86  few clouds -20.74  116.85   \n",
       "\n",
       "              Hotel Name  \n",
       "37  ibis Styles Karratha  "
      ]
     },
     "execution_count": 11,
     "metadata": {},
     "output_type": "execute_result"
    }
   ],
   "source": [
    "fourth_stop = travel_cities_df.loc[travel_cities_df[\"City\"] == \"Karratha\"].copy()\n",
    "fourth_stop"
   ]
  },
  {
   "cell_type": "code",
   "execution_count": 12,
   "metadata": {},
   "outputs": [
    {
     "data": {
      "text/plain": [
       "(-20.74, 116.85)"
      ]
     },
     "execution_count": 12,
     "metadata": {},
     "output_type": "execute_result"
    }
   ],
   "source": [
    "Karratha = fourth_stop[\"Lat\"][37], fourth_stop[\"Lng\"][37]\n",
    "Karratha"
   ]
  },
  {
   "cell_type": "code",
   "execution_count": 13,
   "metadata": {},
   "outputs": [
    {
     "data": {
      "application/vnd.jupyter.widget-view+json": {
       "model_id": "36046b87579249e9ba224fa8c4c9d60f",
       "version_major": 2,
       "version_minor": 0
      },
      "text/plain": [
       "Figure(layout=FigureLayout(height='420px'))"
      ]
     },
     "metadata": {},
     "output_type": "display_data"
    }
   ],
   "source": [
    "# Latitude-longitude pairs\n",
    "Port_Macquarie = (-31.43, 152.92)\n",
    "Cairns = (-16.92, 145.77)\n",
    "Maningrida = (-12.07, 134.27)\n",
    "Karratha = (-20.74, 116.85)\n",
    "\n",
    "fig = gmaps.figure()\n",
    "\n",
    "# Define layers\n",
    "Port_Macquarie2Karratha = gmaps.directions_layer(Port_Macquarie, Karratha, waypoints=[Cairns, Maningrida],\n",
    "                                                 travel_mode='DRIVING')\n",
    "fig = gmaps.figure()\n",
    "# Add layers to figure\n",
    "fig.add_layer(Port_Macquarie2Karratha)\n",
    "fig"
   ]
  },
  {
   "cell_type": "code",
   "execution_count": 14,
   "metadata": {},
   "outputs": [
    {
     "data": {
      "text/html": [
       "<div>\n",
       "<style scoped>\n",
       "    .dataframe tbody tr th:only-of-type {\n",
       "        vertical-align: middle;\n",
       "    }\n",
       "\n",
       "    .dataframe tbody tr th {\n",
       "        vertical-align: top;\n",
       "    }\n",
       "\n",
       "    .dataframe thead th {\n",
       "        text-align: right;\n",
       "    }\n",
       "</style>\n",
       "<table border=\"1\" class=\"dataframe\">\n",
       "  <thead>\n",
       "    <tr style=\"text-align: right;\">\n",
       "      <th></th>\n",
       "      <th>City_ID</th>\n",
       "      <th>City</th>\n",
       "      <th>Country</th>\n",
       "      <th>Max Temp</th>\n",
       "      <th>Weather</th>\n",
       "      <th>Lat</th>\n",
       "      <th>Lng</th>\n",
       "      <th>Hotel Name</th>\n",
       "    </tr>\n",
       "  </thead>\n",
       "  <tbody>\n",
       "    <tr>\n",
       "      <th>40</th>\n",
       "      <td>117</td>\n",
       "      <td>Port Macquarie</td>\n",
       "      <td>AU</td>\n",
       "      <td>75.00</td>\n",
       "      <td>clear sky</td>\n",
       "      <td>-31.43</td>\n",
       "      <td>152.92</td>\n",
       "      <td>Rydges Port Macquarie</td>\n",
       "    </tr>\n",
       "    <tr>\n",
       "      <th>35</th>\n",
       "      <td>100</td>\n",
       "      <td>Cairns</td>\n",
       "      <td>AU</td>\n",
       "      <td>82.40</td>\n",
       "      <td>few clouds</td>\n",
       "      <td>-16.92</td>\n",
       "      <td>145.77</td>\n",
       "      <td>Mantra Trilogy Cairns</td>\n",
       "    </tr>\n",
       "    <tr>\n",
       "      <th>43</th>\n",
       "      <td>121</td>\n",
       "      <td>Maningrida</td>\n",
       "      <td>AU</td>\n",
       "      <td>82.47</td>\n",
       "      <td>scattered clouds</td>\n",
       "      <td>-12.07</td>\n",
       "      <td>134.27</td>\n",
       "      <td>Dhukurrdji Lodge</td>\n",
       "    </tr>\n",
       "    <tr>\n",
       "      <th>37</th>\n",
       "      <td>109</td>\n",
       "      <td>Karratha</td>\n",
       "      <td>AU</td>\n",
       "      <td>85.86</td>\n",
       "      <td>few clouds</td>\n",
       "      <td>-20.74</td>\n",
       "      <td>116.85</td>\n",
       "      <td>ibis Styles Karratha</td>\n",
       "    </tr>\n",
       "  </tbody>\n",
       "</table>\n",
       "</div>"
      ],
      "text/plain": [
       "    City_ID            City Country  Max Temp           Weather    Lat  \\\n",
       "40      117  Port Macquarie      AU     75.00         clear sky -31.43   \n",
       "35      100          Cairns      AU     82.40        few clouds -16.92   \n",
       "43      121      Maningrida      AU     82.47  scattered clouds -12.07   \n",
       "37      109        Karratha      AU     85.86        few clouds -20.74   \n",
       "\n",
       "       Lng             Hotel Name  \n",
       "40  152.92  Rydges Port Macquarie  \n",
       "35  145.77  Mantra Trilogy Cairns  \n",
       "43  134.27       Dhukurrdji Lodge  \n",
       "37  116.85   ibis Styles Karratha  "
      ]
     },
     "execution_count": 14,
     "metadata": {},
     "output_type": "execute_result"
    }
   ],
   "source": [
    "itinerary_df = pd.concat([first_stop, second_stop,third_stop, fourth_stop])\n",
    "itinerary_df"
   ]
  },
  {
   "cell_type": "code",
   "execution_count": 15,
   "metadata": {},
   "outputs": [
    {
     "data": {
      "text/html": [
       "<div>\n",
       "<style scoped>\n",
       "    .dataframe tbody tr th:only-of-type {\n",
       "        vertical-align: middle;\n",
       "    }\n",
       "\n",
       "    .dataframe tbody tr th {\n",
       "        vertical-align: top;\n",
       "    }\n",
       "\n",
       "    .dataframe thead th {\n",
       "        text-align: right;\n",
       "    }\n",
       "</style>\n",
       "<table border=\"1\" class=\"dataframe\">\n",
       "  <thead>\n",
       "    <tr style=\"text-align: right;\">\n",
       "      <th></th>\n",
       "      <th>City_ID</th>\n",
       "      <th>City</th>\n",
       "      <th>Country</th>\n",
       "      <th>Max Temp</th>\n",
       "      <th>Weather</th>\n",
       "      <th>Lat</th>\n",
       "      <th>Lng</th>\n",
       "      <th>Hotel Name</th>\n",
       "    </tr>\n",
       "  </thead>\n",
       "  <tbody>\n",
       "    <tr>\n",
       "      <th>0</th>\n",
       "      <td>117</td>\n",
       "      <td>Port Macquarie</td>\n",
       "      <td>AU</td>\n",
       "      <td>75.00</td>\n",
       "      <td>clear sky</td>\n",
       "      <td>-31.43</td>\n",
       "      <td>152.92</td>\n",
       "      <td>Rydges Port Macquarie</td>\n",
       "    </tr>\n",
       "    <tr>\n",
       "      <th>1</th>\n",
       "      <td>100</td>\n",
       "      <td>Cairns</td>\n",
       "      <td>AU</td>\n",
       "      <td>82.40</td>\n",
       "      <td>few clouds</td>\n",
       "      <td>-16.92</td>\n",
       "      <td>145.77</td>\n",
       "      <td>Mantra Trilogy Cairns</td>\n",
       "    </tr>\n",
       "    <tr>\n",
       "      <th>2</th>\n",
       "      <td>121</td>\n",
       "      <td>Maningrida</td>\n",
       "      <td>AU</td>\n",
       "      <td>82.47</td>\n",
       "      <td>scattered clouds</td>\n",
       "      <td>-12.07</td>\n",
       "      <td>134.27</td>\n",
       "      <td>Dhukurrdji Lodge</td>\n",
       "    </tr>\n",
       "    <tr>\n",
       "      <th>3</th>\n",
       "      <td>109</td>\n",
       "      <td>Karratha</td>\n",
       "      <td>AU</td>\n",
       "      <td>85.86</td>\n",
       "      <td>few clouds</td>\n",
       "      <td>-20.74</td>\n",
       "      <td>116.85</td>\n",
       "      <td>ibis Styles Karratha</td>\n",
       "    </tr>\n",
       "  </tbody>\n",
       "</table>\n",
       "</div>"
      ],
      "text/plain": [
       "   City_ID            City Country  Max Temp           Weather    Lat     Lng  \\\n",
       "0      117  Port Macquarie      AU     75.00         clear sky -31.43  152.92   \n",
       "1      100          Cairns      AU     82.40        few clouds -16.92  145.77   \n",
       "2      121      Maningrida      AU     82.47  scattered clouds -12.07  134.27   \n",
       "3      109        Karratha      AU     85.86        few clouds -20.74  116.85   \n",
       "\n",
       "              Hotel Name  \n",
       "0  Rydges Port Macquarie  \n",
       "1  Mantra Trilogy Cairns  \n",
       "2       Dhukurrdji Lodge  \n",
       "3   ibis Styles Karratha  "
      ]
     },
     "execution_count": 15,
     "metadata": {},
     "output_type": "execute_result"
    }
   ],
   "source": [
    "itinerary_df.reset_index(drop=True)"
   ]
  },
  {
   "cell_type": "code",
   "execution_count": 16,
   "metadata": {},
   "outputs": [],
   "source": [
    "# Using the template add the hotel marks to the heatmap\n",
    "info_box_template = \"\"\"\n",
    "<dl>\n",
    "<dt>Hotel Name</dt><dd>{Hotel Name}</dd><br />\n",
    "<dt>City</dt><dd>{City}<br /></dd><br />\n",
    "<dt>Country</dt><dd>{Country}<br /></dd><br />\n",
    "<dt>Current Weather</dt><dd>{Weather} and {Max Temp} °F</dd><br />\n",
    "</dl>\n",
    "\"\"\"\n"
   ]
  },
  {
   "cell_type": "code",
   "execution_count": 17,
   "metadata": {
    "scrolled": false
   },
   "outputs": [
    {
     "data": {
      "application/vnd.jupyter.widget-view+json": {
       "model_id": "9efac0d15fc3476eb8246fdb651e7c68",
       "version_major": 2,
       "version_minor": 0
      },
      "text/plain": [
       "Figure(layout=FigureLayout(height='420px'))"
      ]
     },
     "metadata": {},
     "output_type": "display_data"
    }
   ],
   "source": [
    "# Store the DataFrame Rows\n",
    "hotel_info = [info_box_template.format(**row) for index, row in itinerary_df.iterrows()]\n",
    "locations = itinerary_df[[\"Lat\", \"Lng\"]]\n",
    "\n",
    "# Add marker layer ontop of heat map\n",
    "marker_layer = gmaps.marker_layer(locations, info_box_content=hotel_info)\n",
    "fig = gmaps.figure()\n",
    "Port_Macquarie2Karratha = gmaps.directions_layer(\n",
    "    Port_Macquarie, Karratha, waypoints=[Cairns, Maningrida], show_markers=False,\n",
    "    stroke_color='red', stroke_weight=3.0, stroke_opacity=1.0)\n",
    "\n",
    "fig.add_layer(Port_Macquarie2Karratha)\n",
    "fig.add_layer(marker_layer)\n",
    "# Display figure\n",
    "fig"
   ]
  },
  {
   "cell_type": "code",
   "execution_count": null,
   "metadata": {},
   "outputs": [],
   "source": []
  }
 ],
 "metadata": {
  "kernelspec": {
   "display_name": "PythonData",
   "language": "python",
   "name": "pythondata"
  },
  "language_info": {
   "codemirror_mode": {
    "name": "ipython",
    "version": 3
   },
   "file_extension": ".py",
   "mimetype": "text/x-python",
   "name": "python",
   "nbconvert_exporter": "python",
   "pygments_lexer": "ipython3",
   "version": "3.7.7"
  }
 },
 "nbformat": 4,
 "nbformat_minor": 4
}
